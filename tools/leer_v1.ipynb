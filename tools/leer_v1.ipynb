{
 "cells": [
  {
   "metadata": {
    "ExecuteTime": {
     "end_time": "2025-03-04T23:12:04.434247Z",
     "start_time": "2025-03-04T23:12:04.425881Z"
    }
   },
   "cell_type": "code",
   "source": [
    "def transformar_periodo(periodo):\n",
    "    # Diccionario para mapear los códigos de mes a números de mes\n",
    "    meses = {\n",
    "        'en': '01',\n",
    "        'fe': '02',\n",
    "        'ma': '03',\n",
    "        'ab': '04',\n",
    "        'my': '05',\n",
    "        'jn': '06',\n",
    "        'jl': '07',\n",
    "        'ag': '08',\n",
    "        'se': '09',\n",
    "        'oc': '10',\n",
    "        'no': '11',\n",
    "        'di': '12',\n",
    "    }\n",
    "    mes_codigo = periodo[:2]\n",
    "    anio = periodo[2:]\n",
    "    mes = meses.get(mes_codigo, '01')  # Por defecto enero si no se encuentra el mes\n",
    "    return pd.to_datetime(f'01/{mes}/{anio}', format='%d/%m/%Y')\n",
    "\n",
    "def leer_transform_xls(ruta):\n",
    "    df = pd.read_excel(ruta, skiprows=8, header=None)\n",
    "    df.dropna(how='all', inplace=True)\n",
    "    df = df.iloc[:,:5] #nos aseguramos tomar solo las columnas iniciales, en caso existan columnas auxiliares\n",
    "    return df\n",
    "\n",
    "def estructurar_xls(df, nombre_libro, nombres_columas):\n",
    "    tipo_entidad = nombre_libro[:6]\n",
    "\n",
    "    periodo = nombre_libro.split('.')[0]\n",
    "    periodo = periodo[-6:] #llamar a una función que convierta periodo a formato fecha\n",
    "\n",
    "    periodo = transformar_periodo(periodo)\n",
    "\n",
    "    #renombramos las columnas\n",
    "    try:\n",
    "        df.columns = nombres_columas\n",
    "\n",
    "        #hacerlo dinámico\n",
    "        df.insert(0, 'tipo_entidad', tipo_entidad)\n",
    "        df.insert(1, 'periodo', periodo)\n",
    "        return df\n",
    "    except:\n",
    "        col_aux = nombres_columas.copy()\n",
    "        #quitar 'nivel_3' de la lista\n",
    "        col_aux.pop(3)\n",
    "        estructurar_xls(df, nombre_libro, col_aux)\n",
    "        return df\n"
   ],
   "id": "b56c23afc3f04f62",
   "outputs": [],
   "execution_count": 34
  },
  {
   "metadata": {
    "ExecuteTime": {
     "end_time": "2025-03-04T23:12:04.455269Z",
     "start_time": "2025-03-04T23:12:04.451276Z"
    }
   },
   "cell_type": "code",
   "source": [
    "import pandas as pd\n",
    "import os\n",
    "\n",
    "\n",
    "#leer_data y retornar un df csv\n",
    "\n",
    "carpeta_lectura = 'Patrimonio_Efectivo'\n",
    "carpeta_lectura = os.path.join('../', 'descargas',carpeta_lectura)\n",
    "libros = os.listdir(carpeta_lectura)\n",
    "\n",
    "#filtrar solo a los .XLS\n",
    "libros = [i for i in libros if i.endswith('.XLS')]\n",
    "\n",
    "nombres_columas = ['entidad','nivel_1','nivel_2','nivel_3', 'total']\n",
    "\n",
    "\n"
   ],
   "id": "af58a114d9cc803e",
   "outputs": [],
   "execution_count": 35
  },
  {
   "cell_type": "code",
   "id": "initial_id",
   "metadata": {
    "collapsed": true,
    "ExecuteTime": {
     "end_time": "2025-03-04T23:12:06.511719Z",
     "start_time": "2025-03-04T23:12:04.474711Z"
    }
   },
   "source": [
    "df_total = pd.DataFrame()\n",
    "\n",
    "for libro in libros:\n",
    "\n",
    "    try:\n",
    "\n",
    "        ruta = os.path.join(carpeta_lectura, libro)\n",
    "\n",
    "        #leemos el libro XLS con pequeños cambios\n",
    "        df_bruto = leer_transform_xls(ruta)\n",
    "\n",
    "        #estructuramos las columnas\n",
    "        df = estructurar_xls(df_bruto, libro, nombres_columas)\n",
    "\n",
    "        #concateno todos los libros a uno solo\n",
    "        df_total = pd.concat([df_total, df], ignore_index=True)\n",
    "    except Exception as e:\n",
    "        print(f\"No se pudo procesar para el libro: {libro}. Error: {e}\")\n"
   ],
   "outputs": [],
   "execution_count": 36
  },
  {
   "metadata": {
    "ExecuteTime": {
     "end_time": "2025-03-04T23:12:06.761088Z",
     "start_time": "2025-03-04T23:12:06.530372Z"
    }
   },
   "cell_type": "code",
   "source": [
    "#solo para esta columna completamos con 0 porque algunos periodos cambian haciendo que nivel_3 no existe una temporada\n",
    "df_total['nivel_3'] = df_total['nivel_3'].fillna(0)\n",
    "\n",
    "\n",
    "#eliminamos filas con valores nulos\n",
    "df_total.dropna(axis=0,inplace=True)\n",
    "\n",
    "carpeta_salida = os.path.join(carpeta_lectura, \"_consolidado\")\n",
    "\n",
    "os.makedirs(carpeta_salida, exist_ok=True)\n",
    "archivo_salida = os.path.join(carpeta_salida, \"consolidado.xlsx\")\n",
    "\n",
    "#convertimos a número columnas tipo object\n",
    "columnas_a_convertir = [\"nivel_1\", \"nivel_2\", \"nivel_3\", \"total\"]\n",
    "for col in columnas_a_convertir:\n",
    "    df_total[col] = pd.to_numeric(df_total[col], errors=\"coerce\")\n",
    "\n",
    "\n",
    "#guardamos\n",
    "df_total.to_excel(archivo_salida, index=False)"
   ],
   "id": "45e58d402691ffc8",
   "outputs": [],
   "execution_count": 37
  },
  {
   "metadata": {
    "ExecuteTime": {
     "end_time": "2025-03-04T23:14:36.438256Z",
     "start_time": "2025-03-04T23:14:36.112781Z"
    }
   },
   "cell_type": "code",
   "source": [
    "#convertimos a número columnas tipo object\n",
    "columnas_a_convertir = [\"nivel_1\", \"nivel_2\", \"nivel_3\", \"total\"]\n",
    "for col in columnas_a_convertir:\n",
    "    df_total[col] = pd.to_numeric(df_total[col], errors=\"coerce\")\n",
    "\n",
    "df_total.info()"
   ],
   "id": "7d2cda46f94bf550",
   "outputs": [
    {
     "name": "stdout",
     "output_type": "stream",
     "text": [
      "<class 'pandas.core.frame.DataFrame'>\n",
      "Index: 834 entries, 1 to 958\n",
      "Data columns (total 7 columns):\n",
      " #   Column        Non-Null Count  Dtype         \n",
      "---  ------        --------------  -----         \n",
      " 0   tipo_entidad  834 non-null    object        \n",
      " 1   periodo       834 non-null    datetime64[ns]\n",
      " 2   entidad       834 non-null    object        \n",
      " 3   nivel_1       834 non-null    float64       \n",
      " 4   nivel_2       834 non-null    float64       \n",
      " 5   nivel_3       834 non-null    float64       \n",
      " 6   total         834 non-null    float64       \n",
      "dtypes: datetime64[ns](1), float64(4), object(2)\n",
      "memory usage: 52.1+ KB\n"
     ]
    }
   ],
   "execution_count": 39
  },
  {
   "metadata": {
    "ExecuteTime": {
     "end_time": "2025-03-04T23:16:53.972490Z",
     "start_time": "2025-03-04T23:16:53.950350Z"
    }
   },
   "cell_type": "code",
   "source": [
    "#comprobacion\n",
    "\n",
    "df_total['nivel_1_%'] = (df_total['nivel_1']/100) * df_total['total']\n",
    "df_total['nivel_2_%'] = (df_total['nivel_2']/100) * df_total['total']\n",
    "df_total['nivel_3_%'] = (df_total['nivel_3']/100) * df_total['total']\n",
    "\n",
    "df_total['total_%'] = df_total['nivel_1_%'] + df_total['nivel_2_%'] +df_total['nivel_3_%']\n",
    "\n",
    "df_total['diff'] = df_total['total'] - df_total['total_%']\n",
    "\n",
    "df_total[['diff']].describe()\n"
   ],
   "id": "63ffd659a9fa8d70",
   "outputs": [
    {
     "data": {
      "text/plain": [
       "               diff\n",
       "count  8.340000e+02\n",
       "mean   3.681600e-12\n",
       "std    2.191881e-10\n",
       "min   -1.862645e-09\n",
       "25%    0.000000e+00\n",
       "50%    0.000000e+00\n",
       "75%    0.000000e+00\n",
       "max    1.862645e-09"
      ],
      "text/html": [
       "<div>\n",
       "<style scoped>\n",
       "    .dataframe tbody tr th:only-of-type {\n",
       "        vertical-align: middle;\n",
       "    }\n",
       "\n",
       "    .dataframe tbody tr th {\n",
       "        vertical-align: top;\n",
       "    }\n",
       "\n",
       "    .dataframe thead th {\n",
       "        text-align: right;\n",
       "    }\n",
       "</style>\n",
       "<table border=\"1\" class=\"dataframe\">\n",
       "  <thead>\n",
       "    <tr style=\"text-align: right;\">\n",
       "      <th></th>\n",
       "      <th>diff</th>\n",
       "    </tr>\n",
       "  </thead>\n",
       "  <tbody>\n",
       "    <tr>\n",
       "      <th>count</th>\n",
       "      <td>8.340000e+02</td>\n",
       "    </tr>\n",
       "    <tr>\n",
       "      <th>mean</th>\n",
       "      <td>3.681600e-12</td>\n",
       "    </tr>\n",
       "    <tr>\n",
       "      <th>std</th>\n",
       "      <td>2.191881e-10</td>\n",
       "    </tr>\n",
       "    <tr>\n",
       "      <th>min</th>\n",
       "      <td>-1.862645e-09</td>\n",
       "    </tr>\n",
       "    <tr>\n",
       "      <th>25%</th>\n",
       "      <td>0.000000e+00</td>\n",
       "    </tr>\n",
       "    <tr>\n",
       "      <th>50%</th>\n",
       "      <td>0.000000e+00</td>\n",
       "    </tr>\n",
       "    <tr>\n",
       "      <th>75%</th>\n",
       "      <td>0.000000e+00</td>\n",
       "    </tr>\n",
       "    <tr>\n",
       "      <th>max</th>\n",
       "      <td>1.862645e-09</td>\n",
       "    </tr>\n",
       "  </tbody>\n",
       "</table>\n",
       "</div>"
      ]
     },
     "execution_count": 44,
     "metadata": {},
     "output_type": "execute_result"
    }
   ],
   "execution_count": 44
  },
  {
   "metadata": {},
   "cell_type": "code",
   "outputs": [],
   "execution_count": null,
   "source": "",
   "id": "d299519064562ad1"
  }
 ],
 "metadata": {
  "kernelspec": {
   "display_name": "Python 3",
   "language": "python",
   "name": "python3"
  },
  "language_info": {
   "codemirror_mode": {
    "name": "ipython",
    "version": 2
   },
   "file_extension": ".py",
   "mimetype": "text/x-python",
   "name": "python",
   "nbconvert_exporter": "python",
   "pygments_lexer": "ipython2",
   "version": "2.7.6"
  }
 },
 "nbformat": 4,
 "nbformat_minor": 5
}
